{
 "cells": [
  {
   "cell_type": "code",
   "execution_count": 2,
   "id": "611322c6-0503-4873-b236-5f16b7b6470e",
   "metadata": {},
   "outputs": [],
   "source": [
    "import os\n",
    "import csv\n",
    "import pandas as pd\n",
    "\n",
    "election_csv = os.path.join(\".\", \"Resources\", \"election_data.csv\")\n"
   ]
  },
  {
   "cell_type": "code",
   "execution_count": 53,
   "id": "9e97ef77-25a5-49b6-a94c-7d73edd77695",
   "metadata": {},
   "outputs": [
    {
     "data": {
      "text/plain": [
       "Index(['Ballot ID', 'County', 'Candidate'], dtype='object')"
      ]
     },
     "execution_count": 53,
     "metadata": {},
     "output_type": "execute_result"
    }
   ],
   "source": [
    "#create a data frame\n",
    "election_df = pd.read_csv(election_csv)\n",
    "election_df.columns\n",
    "\n",
    "\n"
   ]
  },
  {
   "cell_type": "code",
   "execution_count": 54,
   "id": "f7751b49-e766-4cc9-911b-739e341feae7",
   "metadata": {},
   "outputs": [
    {
     "data": {
      "text/plain": [
       "Ballot ID     int64\n",
       "County       object\n",
       "Candidate    object\n",
       "dtype: object"
      ]
     },
     "execution_count": 54,
     "metadata": {},
     "output_type": "execute_result"
    }
   ],
   "source": [
    "#identify my data types that I am working with\n",
    "election_df.dtypes\n"
   ]
  },
  {
   "cell_type": "code",
   "execution_count": 55,
   "id": "71d26768-38ab-4597-b1ab-eb1e08de7820",
   "metadata": {},
   "outputs": [
    {
     "data": {
      "text/plain": [
       "369711"
      ]
     },
     "execution_count": 55,
     "metadata": {},
     "output_type": "execute_result"
    }
   ],
   "source": [
    "#count the total number of votes in the Ballot ID column, we use nunique, to count the total number of unique ballots, since a person cannot vote twice\n",
    "total_votes_df = election_df[\"Ballot ID\"].nunique()\n",
    "total_votes_df"
   ]
  },
  {
   "cell_type": "code",
   "execution_count": 56,
   "id": "26d34202-6644-4b48-a30b-2685ad9939f7",
   "metadata": {},
   "outputs": [
    {
     "data": {
      "text/plain": [
       "array(['Charles Casper Stockham', 'Diana DeGette', 'Raymon Anthony Doane'],\n",
       "      dtype=object)"
      ]
     },
     "execution_count": 56,
     "metadata": {},
     "output_type": "execute_result"
    }
   ],
   "source": [
    "#candidates who received a vote, using unique in Candidate column\n",
    "candidate_df = election_df[\"Candidate\"].unique()\n",
    "candidate_df"
   ]
  },
  {
   "cell_type": "code",
   "execution_count": 57,
   "id": "2c8e29c0-82da-469a-996e-b1776c6e21ca",
   "metadata": {},
   "outputs": [
    {
     "data": {
      "text/plain": [
       "Candidate\n",
       "Diana DeGette              272892\n",
       "Charles Casper Stockham     85213\n",
       "Raymon Anthony Doane        11606\n",
       "Name: count, dtype: int64"
      ]
     },
     "execution_count": 57,
     "metadata": {},
     "output_type": "execute_result"
    }
   ],
   "source": [
    "#create variable vote counts for each candidate\n",
    "vote_counts = election_df[\"Candidate\"].value_counts()\n",
    "vote_counts"
   ]
  },
  {
   "cell_type": "code",
   "execution_count": 58,
   "id": "72c54685-51b5-4401-8999-66f1a57cb22d",
   "metadata": {},
   "outputs": [
    {
     "data": {
      "text/plain": [
       "Candidate\n",
       "Diana DeGette              73.812248\n",
       "Charles Casper Stockham    23.048543\n",
       "Raymon Anthony Doane        3.139209\n",
       "Name: count, dtype: float64"
      ]
     },
     "execution_count": 58,
     "metadata": {},
     "output_type": "execute_result"
    }
   ],
   "source": [
    "#calculate the total percent of votes each candidate receive using vote count and total votes\n",
    "vote_percent = (vote_counts / total_votes_df) * 100\n",
    "vote_percent"
   ]
  },
  {
   "cell_type": "code",
   "execution_count": 59,
   "id": "f5843e8c-3aa3-40fd-a45c-4367d868975d",
   "metadata": {},
   "outputs": [
    {
     "data": {
      "text/plain": [
       "'Diana DeGette'"
      ]
     },
     "execution_count": 59,
     "metadata": {},
     "output_type": "execute_result"
    }
   ],
   "source": [
    "winner = vote_counts[election_df[\"Candidate\"]].idxmax()\n",
    "winner \n"
   ]
  },
  {
   "cell_type": "code",
   "execution_count": 60,
   "id": "6aa9a620-070c-4f4e-8257-17435c65c42c",
   "metadata": {},
   "outputs": [
    {
     "name": "stdout",
     "output_type": "stream",
     "text": [
      "ELECTION RESULTS\n",
      "----------------------------------------\n",
      "Total Votes Cast: 369711\n",
      "----------------------------------------\n",
      "Diana DeGette: 73.81% (272892)\n",
      "Charles Casper Stockham: 23.05% (85213)\n",
      "Raymon Anthony Doane: 3.14% (11606)\n",
      "----------------------------------------\n",
      "Winning Candidate: Diana DeGette\n",
      "----------------------------------------\n"
     ]
    }
   ],
   "source": [
    "#print the results of each 'total votes cast, and the candidate, total votes they received, and % of votes won, followed by the winning cnadidate'\n",
    "print(f\"ELECTION RESULTS\")\n",
    "print(\"----------------------------------------\")\n",
    "print(f\"Total Votes Cast: {total_votes_df}\")\n",
    "print(\"----------------------------------------\")\n",
    "for Candidate in vote_counts.index:\n",
    "    print(f\"{Candidate}: {vote_percent[Candidate]:.2f}% ({vote_counts[Candidate]})\")\n",
    "print(\"----------------------------------------\")\n",
    "print(f\"Winning Candidate: {winner}\")\n",
    "print(\"----------------------------------------\")"
   ]
  },
  {
   "cell_type": "code",
   "execution_count": null,
   "id": "5300c817-eca1-4733-9220-75daf5a70604",
   "metadata": {},
   "outputs": [],
   "source": []
  },
  {
   "cell_type": "code",
   "execution_count": null,
   "id": "8cd493dd-a1dc-4924-a8af-dce441374cbf",
   "metadata": {},
   "outputs": [],
   "source": []
  }
 ],
 "metadata": {
  "kernelspec": {
   "display_name": "Python 3 (ipykernel)",
   "language": "python",
   "name": "python3"
  },
  "language_info": {
   "codemirror_mode": {
    "name": "ipython",
    "version": 3
   },
   "file_extension": ".py",
   "mimetype": "text/x-python",
   "name": "python",
   "nbconvert_exporter": "python",
   "pygments_lexer": "ipython3",
   "version": "3.11.7"
  }
 },
 "nbformat": 4,
 "nbformat_minor": 5
}

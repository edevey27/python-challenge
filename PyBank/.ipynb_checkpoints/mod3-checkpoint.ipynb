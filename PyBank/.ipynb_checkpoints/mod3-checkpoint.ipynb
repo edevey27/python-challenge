{
 "cells": [
  {
   "cell_type": "code",
   "execution_count": 28,
   "id": "9b9c39fd-da59-4d78-8a7b-8427096f73fa",
   "metadata": {},
   "outputs": [],
   "source": [
    "import os\n",
    "import csv\n",
    "import pandas as pd\n",
    "\n",
    "budget_csv = os.path.join(\".\", \"Resources\", \"budget_data.csv\")\n",
    "\n"
   ]
  },
  {
   "cell_type": "code",
   "execution_count": 29,
   "id": "7b101e76-04ca-46c6-9191-bf9dfdc3f376",
   "metadata": {},
   "outputs": [
    {
     "data": {
      "text/plain": [
       "Date             object\n",
       "Profit/Losses     int64\n",
       "dtype: object"
      ]
     },
     "execution_count": 29,
     "metadata": {},
     "output_type": "execute_result"
    }
   ],
   "source": [
    "#create a data frame\n",
    "budget_data_df = pd.read_csv(budget_csv)\n",
    "\n",
    "#identify my data types that I am working with\n",
    "budget_data_df.dtypes\n",
    "\n"
   ]
  },
  {
   "cell_type": "code",
   "execution_count": 30,
   "id": "67f8e769-c011-4f67-ae62-c27c90f7568c",
   "metadata": {},
   "outputs": [
    {
     "data": {
      "text/html": [
       "<div>\n",
       "<style scoped>\n",
       "    .dataframe tbody tr th:only-of-type {\n",
       "        vertical-align: middle;\n",
       "    }\n",
       "\n",
       "    .dataframe tbody tr th {\n",
       "        vertical-align: top;\n",
       "    }\n",
       "\n",
       "    .dataframe thead th {\n",
       "        text-align: right;\n",
       "    }\n",
       "</style>\n",
       "<table border=\"1\" class=\"dataframe\">\n",
       "  <thead>\n",
       "    <tr style=\"text-align: right;\">\n",
       "      <th></th>\n",
       "      <th>Date</th>\n",
       "      <th>Profit/Losses</th>\n",
       "    </tr>\n",
       "  </thead>\n",
       "  <tbody>\n",
       "    <tr>\n",
       "      <th>0</th>\n",
       "      <td>Jan-10</td>\n",
       "      <td>1088983</td>\n",
       "    </tr>\n",
       "    <tr>\n",
       "      <th>1</th>\n",
       "      <td>Feb-10</td>\n",
       "      <td>-354534</td>\n",
       "    </tr>\n",
       "    <tr>\n",
       "      <th>2</th>\n",
       "      <td>Mar-10</td>\n",
       "      <td>276622</td>\n",
       "    </tr>\n",
       "    <tr>\n",
       "      <th>3</th>\n",
       "      <td>Apr-10</td>\n",
       "      <td>-728133</td>\n",
       "    </tr>\n",
       "    <tr>\n",
       "      <th>4</th>\n",
       "      <td>May-10</td>\n",
       "      <td>852993</td>\n",
       "    </tr>\n",
       "    <tr>\n",
       "      <th>...</th>\n",
       "      <td>...</td>\n",
       "      <td>...</td>\n",
       "    </tr>\n",
       "    <tr>\n",
       "      <th>81</th>\n",
       "      <td>Oct-16</td>\n",
       "      <td>-729004</td>\n",
       "    </tr>\n",
       "    <tr>\n",
       "      <th>82</th>\n",
       "      <td>Nov-16</td>\n",
       "      <td>-112209</td>\n",
       "    </tr>\n",
       "    <tr>\n",
       "      <th>83</th>\n",
       "      <td>Dec-16</td>\n",
       "      <td>516313</td>\n",
       "    </tr>\n",
       "    <tr>\n",
       "      <th>84</th>\n",
       "      <td>Jan-17</td>\n",
       "      <td>607208</td>\n",
       "    </tr>\n",
       "    <tr>\n",
       "      <th>85</th>\n",
       "      <td>Feb-17</td>\n",
       "      <td>382539</td>\n",
       "    </tr>\n",
       "  </tbody>\n",
       "</table>\n",
       "<p>86 rows × 2 columns</p>\n",
       "</div>"
      ],
      "text/plain": [
       "      Date  Profit/Losses\n",
       "0   Jan-10        1088983\n",
       "1   Feb-10        -354534\n",
       "2   Mar-10         276622\n",
       "3   Apr-10        -728133\n",
       "4   May-10         852993\n",
       "..     ...            ...\n",
       "81  Oct-16        -729004\n",
       "82  Nov-16        -112209\n",
       "83  Dec-16         516313\n",
       "84  Jan-17         607208\n",
       "85  Feb-17         382539\n",
       "\n",
       "[86 rows x 2 columns]"
      ]
     },
     "execution_count": 30,
     "metadata": {},
     "output_type": "execute_result"
    }
   ],
   "source": [
    "#I made the dateset into string data so it can handle different date formatting.\n",
    "budget_data_df['Date'] = budget_data_df['Date'].astype(str)\n",
    "budget_data_df"
   ]
  },
  {
   "cell_type": "code",
   "execution_count": 34,
   "id": "a89fcab1-9a0f-4e2f-ae09-55424a5ee624",
   "metadata": {},
   "outputs": [
    {
     "data": {
      "text/plain": [
       "86"
      ]
     },
     "execution_count": 34,
     "metadata": {},
     "output_type": "execute_result"
    }
   ],
   "source": [
    "#I then calculate the total number of months by creating a formula, listing the unique number of months, so I don't count the same month twice\n",
    "total_months = budget_data_df['Date'].nunique()\n",
    "total_months"
   ]
  },
  {
   "cell_type": "code",
   "execution_count": 33,
   "id": "a85408f1-ca12-44f8-aecc-d2151d5f99ae",
   "metadata": {},
   "outputs": [
    {
     "data": {
      "text/plain": [
       "22564198"
      ]
     },
     "execution_count": 33,
     "metadata": {},
     "output_type": "execute_result"
    }
   ],
   "source": [
    "#next I added all the data in the Profit/Losses category to give me my net profit\n",
    "net_profit = budget_data_df['Profit/Losses'].sum()\n",
    "net_profit"
   ]
  },
  {
   "cell_type": "code",
   "execution_count": 37,
   "id": "9e02fa6b-59b9-43c9-a7ac-cba95d335f5e",
   "metadata": {},
   "outputs": [
    {
     "data": {
      "text/plain": [
       "-8311.105882352942"
      ]
     },
     "execution_count": 37,
     "metadata": {},
     "output_type": "execute_result"
    }
   ],
   "source": [
    "#I created a column change that would be based off the difference between each cell in the column profit/loss\n",
    "budget_data_df['Change'] = budget_data_df['Profit/Losses'].diff()\n",
    "##to get average change I use that change column and calculate the average of that column\n",
    "average_change = budget_data_df['Change'].mean()\n",
    "average_change"
   ]
  },
  {
   "cell_type": "code",
   "execution_count": 38,
   "id": "0f7ee007-04e3-4024-8dd2-517497fec770",
   "metadata": {},
   "outputs": [
    {
     "data": {
      "text/plain": [
       "Date                Aug-16\n",
       "Profit/Losses       951227\n",
       "Change           1862002.0\n",
       "Name: 79, dtype: object"
      ]
     },
     "execution_count": 38,
     "metadata": {},
     "output_type": "execute_result"
    }
   ],
   "source": [
    "greatest_increase = budget_data_df.loc[budget_data_df['Change'].idxmax()]\n",
    "greatest_increase"
   ]
  },
  {
   "cell_type": "code",
   "execution_count": 39,
   "id": "18c91bce-7a77-4ad8-9a07-d50d350a1485",
   "metadata": {},
   "outputs": [
    {
     "data": {
      "text/plain": [
       "Date                Feb-14\n",
       "Profit/Losses      -946748\n",
       "Change          -1825558.0\n",
       "Name: 49, dtype: object"
      ]
     },
     "execution_count": 39,
     "metadata": {},
     "output_type": "execute_result"
    }
   ],
   "source": [
    "greatest_decrease = budget_data_df.loc[budget_data_df['Change'].idxmin()]\n",
    "greatest_decrease"
   ]
  },
  {
   "cell_type": "code",
   "execution_count": 75,
   "id": "26f95293-608f-47db-9729-d97ae2f10f43",
   "metadata": {},
   "outputs": [
    {
     "name": "stdout",
     "output_type": "stream",
     "text": [
      "Total Months: 86\n",
      "Net Profit: $22564198\n",
      "Average Change in Profit: $-8311.11\n",
      "Greatest Increase in Profit: Aug-16 ($1862002.00)\n",
      "Greatest Decrease in Profit: Feb-14 ($-1825558.00)\n"
     ]
    }
   ],
   "source": [
    "#print everything out\n",
    "\n",
    "print(f'Total Months: {total_months}')\n",
    "print(f'Net Profit: ${net_profit}')\n",
    "print(f'Average Change in Profit: ${average_change:.2f}')\n",
    "print(f'Greatest Increase in Profit: {greatest_increase[\"Date\"]} (${greatest_increase[\"Change\"]:.2f})')\n",
    "print(f'Greatest Decrease in Profit: {greatest_decrease[\"Date\"]} (${greatest_decrease[\"Change\"]:.2f})')"
   ]
  },
  {
   "cell_type": "code",
   "execution_count": null,
   "id": "4d6e2cd7-6992-42eb-ae84-b877f4ceebe4",
   "metadata": {},
   "outputs": [],
   "source": []
  }
 ],
 "metadata": {
  "kernelspec": {
   "display_name": "Python 3 (ipykernel)",
   "language": "python",
   "name": "python3"
  },
  "language_info": {
   "codemirror_mode": {
    "name": "ipython",
    "version": 3
   },
   "file_extension": ".py",
   "mimetype": "text/x-python",
   "name": "python",
   "nbconvert_exporter": "python",
   "pygments_lexer": "ipython3",
   "version": "3.11.7"
  }
 },
 "nbformat": 4,
 "nbformat_minor": 5
}
